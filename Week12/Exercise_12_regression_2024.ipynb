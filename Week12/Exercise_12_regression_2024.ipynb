{
 "cells": [
  {
   "cell_type": "markdown",
   "metadata": {},
   "source": [
    "# Regression"
   ]
  },
  {
   "cell_type": "markdown",
   "metadata": {},
   "source": [
    "In the previous exercises, we learned basic signal processing techniques. We will apply those techniques in today's exercise on regression-based EMG signal to hand movement decoding.\n",
    "\n",
    "Regression is a good candidate for the scenarios where decoding the user's motor intentions in a continuous fashion is desirable. \n",
    "\n",
    "The dataset used here is subject1's data in the first database from the Ninapro dataset (https://ninapro.hevs.ch/instructions/DB1.html). \n",
    "\n",
    "This dataset includes detailed information about finger angles. Our objective now is to predict these finger angles using the EMG data."
   ]
  },
  {
   "cell_type": "code",
   "execution_count": null,
   "metadata": {},
   "outputs": [],
   "source": [
    "import numpy as np\n",
    "import matplotlib.pyplot as plt\n",
    "import seaborn as sns\n",
    "sns.set()\n",
    "\n",
    "from scipy.io import loadmat \n",
    "from scipy.ndimage import convolve1d\n",
    "from scipy.signal import butter\n",
    "from scipy.signal import sosfiltfilt\n",
    "from scipy.signal import welch"
   ]
  },
  {
   "cell_type": "markdown",
   "metadata": {},
   "source": [
    "Download the dataset and check the data structure."
   ]
  },
  {
   "cell_type": "code",
   "execution_count": null,
   "metadata": {},
   "outputs": [],
   "source": [
    "data = loadmat(\"S1_A1_E1.mat\")\n",
    "print(\"Dataset variables:\")\n",
    "for key in data.keys():\n",
    "    if not key.startswith(\"__\"):\n",
    "        print(key)"
   ]
  },
  {
   "cell_type": "markdown",
   "metadata": {},
   "source": [
    "Now, load in the EMG data. Take only the part of EMG data where the index finger is involved in movements (part 1 and 2 that correspond to index flexion and index extension, see https://ninapro.hevs.ch/instructions/DB1.html). Check the data structure printing data dimension and type."
   ]
  },
  {
   "cell_type": "code",
   "execution_count": null,
   "metadata": {},
   "outputs": [],
   "source": [
    "emg_data = data[\"emg\"]\n",
    "# only take the part of the data where index is involved in movements\n",
    "data_index_where_movement_ends = 19_000\n",
    "emg_data = emg_data[:data_index_where_movement_ends,:]\n",
    "print(\"EMG data dimension: {}\".format(emg_data.shape))\n",
    "print(\"EMG data type: {}\".format(type(emg_data)))"
   ]
  },
  {
   "cell_type": "markdown",
   "metadata": {},
   "source": [
    "Load in hand kinematics labels. Select only the joint angles associated to the index finger movement (6 and 7, see the glove image here https://ninapro.hevs.ch/instructions/DB1.html). Take only the part of data labels where index finger is involved in movement (see cell above). Check the data structure printing data dimension and type."
   ]
  },
  {
   "cell_type": "code",
   "execution_count": null,
   "metadata": {},
   "outputs": [],
   "source": [
    "# only regressing on finger joint 6 and 7\n",
    "glove_data_index = data[\"glove\"][:data_index_where_movement_ends, 5:7]\n",
    "print(\"Glove data dimension: {}\".format(glove_data_index.shape))\n",
    "print(\"Glove data type: {}\".format(type(glove_data_index)))"
   ]
  },
  {
   "cell_type": "code",
   "execution_count": null,
   "metadata": {},
   "outputs": [],
   "source": [
    "# Plot first channel to get a sense of the data\n",
    "plt.close(\"all\")\n",
    "fig, ax = plt.subplots()\n",
    "ax.plot(emg_data[:, 5])   \n",
    "ax.set_title(\"EMG signal\")\n",
    "ax.set_xlabel(\"Data points\")\n",
    "ax.set_ylabel(\"Amplitude\")"
   ]
  },
  {
   "cell_type": "markdown",
   "metadata": {},
   "source": [
    "We can see when the channel is picking up signals from the muscles. Let's check the signal quality to decide on the signal processing techniques."
   ]
  },
  {
   "cell_type": "code",
   "execution_count": null,
   "metadata": {},
   "outputs": [],
   "source": [
    "#Use Welch's method for power spectral density estimation, it reduces the variance of the estimate.\n",
    "freqs_pre, Pxx_pre = welch(emg_data[:, 8], fs=2000, nperseg=512)\n",
    "\n",
    "fig, ax = plt.subplots(1, 2, constrained_layout=True, figsize=(10, 3))\n",
    "ax[0].plot(freqs_pre, Pxx_pre, label=\"raw\")\n",
    "ax[0].legend()\n",
    "ax[0].set_xlabel(\"Frequency [Hz]\")\n",
    "ax[0].set_ylabel(\"Power Spectral Density (W/Hz)\")\n",
    "ax[0].set_title(\"Power Spectral Density plot\")\n",
    "\n",
    "ax[1].semilogy(freqs_pre, Pxx_pre, label=\"raw\")\n",
    "ax[1].legend()\n",
    "ax[1].set_xlabel(\"Frequency [Hz]\")\n",
    "ax[1].set_ylabel(\"Power Spectral Density (W/Hz)\")\n",
    "ax[1].set_title(\"Power Spectral Density plot in Log scale\")"
   ]
  },
  {
   "cell_type": "markdown",
   "metadata": {},
   "source": [
    "The signal seems to be minimally influenced by the powerline noise. Therefore, we can save the powerline filtering and proceed directly with the enveloping."
   ]
  },
  {
   "cell_type": "code",
   "execution_count": null,
   "metadata": {},
   "outputs": [],
   "source": [
    "mov_mean_size = 400\n",
    "mov_mean_weights = np.ones(mov_mean_size) / mov_mean_size\n",
    "EMG_envelopes = convolve1d(emg_data, weights=mov_mean_weights, axis=0)\n",
    "\n",
    "fig, ax = plt.subplots()\n",
    "ax.plot(EMG_envelopes[:, 0],color = 'cornflowerblue', label=\"EMG envelope\")\n",
    "ax.set_ylabel(\"EMG envelope\")\n",
    "ax.set_xlabel(\"Time samples\")\n",
    "ax.grid(False)\n",
    "\n",
    "finger_angle_ax = ax.twinx()\n",
    "finger_angle_ax.plot(glove_data_index[:, 0], color=\"darkorange\", label=\"Angle of finger\")\n",
    "finger_angle_ax.set_ylabel(\"Angle of finger\")\n",
    "finger_angle_ax.grid(False)\n",
    "\n",
    "# Get handles and labels for legend\n",
    "emg_handles, emg_labels = ax.get_legend_handles_labels()\n",
    "finger_angle_handles, finger_angle_labels = finger_angle_ax.get_legend_handles_labels()\n",
    "\n",
    "# Combine handles and labels\n",
    "combined_handles = emg_handles + finger_angle_handles\n",
    "combined_labels = emg_labels + finger_angle_labels\n",
    "\n",
    "# Create a single legend\n",
    "ax.legend(combined_handles, combined_labels, loc='upper left')\n",
    "plt.tight_layout()"
   ]
  },
  {
   "cell_type": "markdown",
   "metadata": {},
   "source": [
    "To process the dataset efficiently, we divide it into overlapping sliding windows. This approach allows us to extract smaller segments of the EMG data, each corresponding to a specific time interval. The sliding window technique ensures that we capture temporal patterns in the signal by dividing it into time segments, while maintaining continuity through overlapping segments."
   ]
  },
  {
   "cell_type": "code",
   "execution_count": null,
   "metadata": {},
   "outputs": [],
   "source": [
    "fs = 2000  # [Hz], from dataset description\n",
    "emg_window_length_sec = 50e-3  # [s]\n",
    "incremental_window_length_sec = 10e-3  # [s]"
   ]
  },
  {
   "cell_type": "code",
   "execution_count": null,
   "metadata": {},
   "outputs": [],
   "source": [
    "def extract_time_windows_regression(EMG: np.ndarray, Label: np.ndarray, fs: int, win_len: int, step: int):\n",
    "# This function is used to cut the time windows from the raw EMG \n",
    "# It return a lists containing the EMG of each time window.\n",
    "# It also returns the target corresponding to the time of the end of the window\n",
    "    \"\"\"\n",
    "    This function is defined to perform an overlapping sliding window \n",
    "    :param EMG: Numpy array containing the data\n",
    "    :param Label: Numpy array containing the targets\n",
    "    :param fs: the sampling frequency of the signal\n",
    "    :param win_len: The size of the windows (in seconds)\n",
    "    :param step: The step size between windows (in seconds)\n",
    "\n",
    "    :return: A Numpy array containing the windows\n",
    "    :return: A Numpy array containing the targets aligned for each window\n",
    "    :note: The lengths of both outputs are the same\n",
    "    \"\"\"\n",
    "    \n",
    "    n,m = EMG.shape\n",
    "    win_len = int(win_len*fs)\n",
    "    start_points = np.arange(0,n-win_len,int(step*fs))\n",
    "    end_points = start_points + win_len\n",
    "\n",
    "    EMG_windows = np.zeros((len(start_points),win_len,m))\n",
    "    Labels_window = np.zeros((len(start_points),win_len,Label.shape[1]))\n",
    "    for i in range(len(start_points)):\n",
    "        EMG_windows[i,:,:] = EMG[start_points[i]:end_points[i],:]\n",
    "        Labels_window[i,:,:] = Label[start_points[i]:end_points[i],:]\n",
    "    \n",
    "\n",
    "    return EMG_windows, Labels_window"
   ]
  },
  {
   "cell_type": "code",
   "execution_count": null,
   "metadata": {},
   "outputs": [],
   "source": [
    "from sklearn.model_selection import train_test_split\n",
    "# extract over lapping time windows on the whole dataset before splitting the dataset into train, validation and test\n",
    "EMG_windows, Labels_windows = extract_time_windows_regression(EMG_envelopes, glove_data_index, fs, emg_window_length_sec, incremental_window_length_sec)\n",
    "\n",
    "# randomly pick data for train, validation and test\n",
    "EMG_train_windows, EMG_test_windows, Labels_train_windows, Labels_test_windows = train_test_split(EMG_windows, Labels_windows, test_size=0.2, random_state=151)\n",
    "\n",
    "print(f\"EMG train data shape: {EMG_train_windows.shape}, Train label shape: {Labels_train_windows.shape}\")\n",
    "print(f\"EMG test data shape: {EMG_test_windows.shape}, Test label shape: {Labels_test_windows.shape}\")"
   ]
  },
  {
   "cell_type": "markdown",
   "metadata": {},
   "source": [
    "Now that we have the windows, lets extract some features again. For this exercise, we will just look at the mean and std of the windows."
   ]
  },
  {
   "cell_type": "code",
   "execution_count": null,
   "metadata": {},
   "outputs": [],
   "source": [
    "def extract_features(EMG_windows: np.ndarray, Labels_windows: np.ndarray):\n",
    "    \"\"\"\n",
    "    This function is defined to extract the mean and standard deviation of each window\n",
    "    :param EMG_windows: A Numpy array containing the windows\n",
    "    :return: A Numpy array containing the mean and standard deviation of each window and the mean of the labels window\n",
    "    \"\"\"\n",
    "    # along axis 1, which is the time axis\n",
    "    EMG_mean = ???\n",
    "    EMG_std = ???\n",
    "    EMG_max_amplitude = ???\n",
    "    Labels_mean = np.mean(Labels_windows,axis=1)\n",
    "    \n",
    "    # Concatenate the mean and std of each window\n",
    "    EMG_extracted_features = np.concatenate((EMG_mean, EMG_std, EMG_max_amplitude), axis=1)\n",
    "    return EMG_extracted_features, Labels_mean"
   ]
  },
  {
   "cell_type": "code",
   "execution_count": null,
   "metadata": {},
   "outputs": [],
   "source": [
    "EMG_train_extracted_features, Labels_train_mean = extract_features(EMG_train_windows,Labels_train_windows)\n",
    "EMG_test_extracted_features, Labels_test_mean = extract_features(EMG_test_windows,Labels_test_windows)\n",
    "\n",
    "print(\"EMG train extracted features shape: {}, Fingler labels feature shape:{}\".format(EMG_train_extracted_features.shape, Labels_train_mean.shape))\n",
    "print(\"EMG test extracted features shape: {}, Fingler labels feature shape:{}\".format(EMG_test_extracted_features.shape, Labels_test_mean.shape))"
   ]
  },
  {
   "cell_type": "markdown",
   "metadata": {},
   "source": [
    "Next, we'll focus on the regressor. Scikit-learn greatly simplifies the process, whether you're working with classification or regression tasks. The key is ensuring your data is in a format compatible with the library. Once that's achieved, switching between different algorithm types to suit your data becomes straightforward. The workflow is quite similar across various algorithms: you start by fitting the model to your training data, and then proceed to make predictions on the test set."
   ]
  },
  {
   "cell_type": "code",
   "execution_count": null,
   "metadata": {},
   "outputs": [],
   "source": [
    "#Fit and predict using the linear regression model\n",
    "from sklearn.linear_model import LinearRegression\n",
    "\n",
    "???"
   ]
  },
  {
   "cell_type": "markdown",
   "metadata": {},
   "source": [
    "It's crucial to quantify the model's performance using appropriate metrics. Take a look at scikit-learn's model evaluation (https://scikit-learn.org/stable/modules/model_evaluation.html), there are many metrics that we can choose. The more common ones are MSE, RMSE, MAE. For this exercise, we can take a look at MSE. "
   ]
  },
  {
   "cell_type": "code",
   "execution_count": null,
   "metadata": {},
   "outputs": [],
   "source": [
    "from sklearn.metrics import mean_squared_error\n",
    "\n",
    "# Compute the mean squared error\n",
    "MSE = ???\n",
    "\n",
    "print(f'MSE of Linear Regression: {MSE}')"
   ]
  },
  {
   "cell_type": "markdown",
   "metadata": {},
   "source": [
    "Check prediction accuracy in finger angle 6:"
   ]
  },
  {
   "cell_type": "code",
   "execution_count": null,
   "metadata": {},
   "outputs": [],
   "source": [
    "# Plot the true and predicted values for finger angle 6\n",
    "fig, ax = plt.subplots()\n",
    "ax.plot(Labels_test_mean[:,0], label=\"True\")\n",
    "ax.plot(???, linestyle=\"--\", label=\"Predicted\")\n",
    "ax.legend()"
   ]
  },
  {
   "cell_type": "markdown",
   "metadata": {},
   "source": [
    "Check prediction accuracy in finger angle 7:"
   ]
  },
  {
   "cell_type": "code",
   "execution_count": null,
   "metadata": {},
   "outputs": [],
   "source": [
    "# Plot the true and predicted values for finger angle 7\n",
    "fig, ax = plt.subplots()\n",
    "ax.plot(Labels_test_mean[:,1], label=\"True\")\n",
    "ax.plot(???, linestyle=\"--\", label=\"Predicted\")\n",
    "ax.legend()"
   ]
  },
  {
   "cell_type": "markdown",
   "metadata": {},
   "source": [
    "Now you can try any other regression models, and compare the performances between each others."
   ]
  }
 ],
 "metadata": {
  "kernelspec": {
   "display_name": "base",
   "language": "python",
   "name": "python3"
  },
  "language_info": {
   "codemirror_mode": {
    "name": "ipython",
    "version": 3
   },
   "file_extension": ".py",
   "mimetype": "text/x-python",
   "name": "python",
   "nbconvert_exporter": "python",
   "pygments_lexer": "ipython3",
   "version": "3.8.5"
  }
 },
 "nbformat": 4,
 "nbformat_minor": 2
}
