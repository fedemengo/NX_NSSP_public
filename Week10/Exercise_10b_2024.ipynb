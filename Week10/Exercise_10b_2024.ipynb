{
 "cells": [
  {
   "cell_type": "code",
   "execution_count": 1,
   "metadata": {},
   "outputs": [],
   "source": [
    "import numpy as np\n",
    "import matplotlib.pyplot as plt\n",
    "import seaborn as sns\n",
    "sns.set() #sets the matplotlib style to seaborn style\n",
    "\n",
    "from scipy.io import loadmat \n",
    "from scipy.ndimage import convolve1d\n",
    "from scipy.signal import butter\n",
    "from scipy.signal import sosfiltfilt\n",
    "from scipy.signal import welch\n",
    "import pandas as pd"
   ]
  },
  {
   "cell_type": "markdown",
   "metadata": {},
   "source": [
    "# Part b\n",
    "\n",
    "In the second part, you will apply some of the preprocessing techniques from part 1. Additionally you will thoroughly check an EMG dataset for possible corruptions. \n",
    "\n",
    "The dataset used is an shorter version of a dataset obtained from ninapro. \n",
    "\n",
    "After loading the data, we can see that it is a dictionary. The meaning of the keys can be found at https://ninapro.hevs.ch/instructions/DB1.html. Again, before doing anything, we need to know the data.\n",
    "\n",
    "In essence, the data was acquired through 10 repetitions of 52 different movements (for this particular dataset, there are only 12).   \n",
    "The subjects are asked to repeat movements which were shown as movies on the screen of a laptop. \n",
    "\n",
    "Also, note that these data are already **partially preprocessed.**\n"
   ]
  },
  {
   "cell_type": "markdown",
   "metadata": {},
   "source": [
    "TODO: know your data"
   ]
  },
  {
   "cell_type": "code",
   "execution_count": 2,
   "metadata": {},
   "outputs": [
    {
     "name": "stdout",
     "output_type": "stream",
     "text": [
      "What kind of data structure are we working with? <class 'dict'>\n",
      "What are the keys of the data structure? ['__header__', '__version__', '__globals__', 'emg', 'restimulus', 'rerepetition']\n"
     ]
    }
   ],
   "source": [
    "data = loadmat(\"exercise_1__dataset_1.mat\")\n",
    "print(f\"What kind of data structure are we working with? {type(data)}\")\n",
    "print(f\"What are the keys of the data structure? {[key for key in data.keys()]}\")"
   ]
  },
  {
   "cell_type": "markdown",
   "metadata": {},
   "source": [
    "Exploration of the data: the actual meaningful data lives in the columns ['emg', 'restimulus', 'rerepetition'].   \n",
    "\n",
    "If we print the shape of the array, 0th dimension of EMG column will correspond to the number of timesteps *n_tsteps*, while the 1st dimension are the different channels of electrodes. "
   ]
  },
  {
   "cell_type": "code",
   "execution_count": null,
   "metadata": {},
   "outputs": [],
   "source": [
    "emg_rectified = data[\"emg\"].copy()\n",
    "\n",
    "#Restimulus and rerepetition are the stimulus and repetition that have been processed for better correspondance to real movement\n",
    "#Stimulus is the type of movement that is being performed\n",
    "stimulus = data[\"restimulus\"] \n",
    "#Repetition is the number of times the movement has been repeated\n",
    "repetition = data[\"rerepetition\"] \n",
    "\n",
    "print(f'What are the shape of the data that we are working with? \\nEMG: {emg_rectified.shape}, \\nStimulus {stimulus.shape}, \\nRepetition {repetition.shape}')"
   ]
  },
  {
   "cell_type": "markdown",
   "metadata": {},
   "source": [
    "TODO: We also see that there are 12 different types of movement."
   ]
  },
  {
   "cell_type": "code",
   "execution_count": null,
   "metadata": {},
   "outputs": [],
   "source": [
    "# -1 because 0 is the resting condition\n",
    "n_stimuli = len(np.unique(stimulus)) - 1 \n",
    "# -1 because 0 is not a repetition\n",
    "n_repetitions = len(np.unique(repetition)) - 1 \n",
    "n_channels = emg_rectified.shape[1]\n",
    "\n",
    "print(f'How many types of movement are there? {???}') \n",
    "print(f'How many repetitions are there? {???}')"
   ]
  },
  {
   "cell_type": "markdown",
   "metadata": {},
   "source": [
    "Next, let's look at how many samples (a.k.a timesteps) each trial (one combination of stimulation and repeats) has."
   ]
  },
  {
   "cell_type": "code",
   "execution_count": null,
   "metadata": {},
   "outputs": [],
   "source": [
    "number_of_samples_per_trial = np.zeros((n_stimuli, n_repetitions))\n",
    "\n",
    "for stimuli_idx in range(n_stimuli):\n",
    "    for repetition_idx in range(n_repetitions):\n",
    "        \n",
    "        idx = np.logical_and(stimulus == stimuli_idx+1, repetition == repetition_idx+1)\n",
    "        number_of_samples_per_trial[stimuli_idx, repetition_idx] = np.sum(idx.astype(int))\n",
    "\n",
    "number_of_samples_per_trial"
   ]
  },
  {
   "cell_type": "markdown",
   "metadata": {},
   "source": [
    "We can see that the number of samples for each trial is different. This is because of the nature of the task they have to perform.   \n",
    "\n",
    "The subjects were asked to repeat movements on shown on the screen, however the time taken for each movements can differ: some could be longer than the other. \n",
    "\n",
    "It will not be possible to fit it into a tensor (e.g. vector is a 1-dimensional tensor) directly as the size is not the same throughout. \n",
    "\n",
    "Therefore, we will be using a nested list to contain and access the data in the subsequent analysis. \n",
    "\n",
    "### Window and envelope\n",
    "Now, lets visualize the data. In this example, we will illustrate using data from a single trial (repetition 1 of stimulus 1) using moving average for detecting the envelope."
   ]
  },
  {
   "cell_type": "code",
   "execution_count": null,
   "metadata": {},
   "outputs": [],
   "source": [
    "#defining the length of the moving average window\n",
    "mov_mean_length = 25\n",
    "mov_mean_weights = np.ones(mov_mean_length) / mov_mean_length\n",
    "\n",
    "#initializing the data structure\n",
    "emg_windows = [[None for repetition_idx in range(n_repetitions)] for stimuli_idx in range(n_stimuli)]\n",
    "emg_envelopes = [[None for repetition_idx in range(n_repetitions)] for stimuli_idx in range(n_stimuli)]\n",
    "\n",
    "for stimuli_idx in range(n_stimuli):\n",
    "    for repetition_idx in range(n_repetitions):\n",
    "        idx = np.logical_and(stimulus == stimuli_idx + 1, repetition == repetition_idx + 1).flatten()\n",
    "        emg_windows[stimuli_idx][repetition_idx] = ???\n",
    "        emg_envelopes[stimuli_idx][repetition_idx]  = ???\n"
   ]
  },
  {
   "cell_type": "code",
   "execution_count": null,
   "metadata": {},
   "outputs": [],
   "source": [
    "fig, ax = plt.subplots(2, 5, figsize=(12, 6), constrained_layout=True)\n",
    "ax = ax.ravel()\n",
    "\n",
    "#10 EMG channels\n",
    "number_of_emg_channels = emg_rectified.shape[-1]\n",
    "# plot Rectified EMG signal\n",
    "for channel_idx in range(number_of_emg_channels): \n",
    "    ax[channel_idx].plot(emg_windows[0][0][:, channel_idx])\n",
    "    ax[channel_idx].set_title(f\"Channel {channel_idx+1}\")\n",
    "plt.suptitle(\"Rectified EMG signal\")\n",
    "\n",
    "# plot Envelopes of the EMG signal\n",
    "fig, ax = plt.subplots(2, 5, figsize=(12, 6), constrained_layout=True)\n",
    "ax = ax.ravel()\n",
    "for channel_idx in range(number_of_emg_channels): \n",
    "    ax[channel_idx].plot(emg_envelopes[0][0][:, channel_idx])\n",
    "    ax[channel_idx].set_title(f\"Channel {channel_idx+1}\")\n",
    "plt.suptitle(\"Envelopes of the EMG signal\")"
   ]
  },
  {
   "cell_type": "markdown",
   "metadata": {},
   "source": [
    "From the plots, it seems that we already have the envelopes through moving average although high frequency signals might still be present. \n",
    "\n",
    "Note that weird looking plots might occur when using moving average (look at channel 5). Another method that is often used in literature is to use a low pass filter instead of applying the moving average. However, such filtered signals might become partially negative. Running another round of rectification could introduce non-differentiability. Which could affect the subsequent analysis depending on the pipeline.\n",
    "\n",
    "Moreover, notice that the signals in Channel 1 and Channel 6 are just a constant 0. It's almost impossible to have perfectly constant EMG signals for a long period of time. \n",
    "\n",
    "Clearly there was some issue during the data acquisition process. The data acquisition system could have been disconnected or holding the value constant. \n",
    "\n",
    "Depending on how much data you have, you might want to discard that particular trial for further analysis."
   ]
  },
  {
   "cell_type": "code",
   "execution_count": null,
   "metadata": {},
   "outputs": [],
   "source": [
    "# Now we plot all the channels on the same y-scale\n",
    "fig, ax = plt.subplots(2, 5, figsize=(12, 6), constrained_layout=True, sharex=True, sharey=True)\n",
    "ax = ax.ravel()\n",
    "\n",
    "number_of_emg_channels = emg_rectified.shape[-1]\n",
    "# plot Rectified EMG signal\n",
    "for channel_idx in range(number_of_emg_channels): \n",
    "    ax[channel_idx].plot(emg_windows[0][0][:, channel_idx])\n",
    "    ax[channel_idx].set_title(f\"Channel {channel_idx+1}\")\n",
    "plt.suptitle(\"Rectified EMG signal\")\n",
    "\n",
    "# plot Envelopes of the EMG signal\n",
    "fig, ax = plt.subplots(2, 5, figsize=(12, 6), constrained_layout=True, sharex=True, sharey=True)\n",
    "ax = ax.ravel()\n",
    "for channel_idx in range(number_of_emg_channels): \n",
    "    ax[channel_idx].plot(emg_envelopes[0][0][:, channel_idx])\n",
    "    ax[channel_idx].set_title(f\"Channel {channel_idx+1}\")\n",
    "plt.suptitle(\"Envelopes of the EMG signal\")"
   ]
  },
  {
   "cell_type": "markdown",
   "metadata": {},
   "source": [
    "Initially when we look at the plots on by their individual y axis, it's easy to miss the anomalies in Channel 4.  \n",
    "\n",
    "However, if we plot the signals with same axis, we see that the values of Channel 4 is over powering the other channels.   \n",
    "Also, based on the rectified window signal, it seems to be clipped at 3.0. Such saturation can be due to some electrical noise. \n",
    "\n",
    "Same as the rationale above for channel 1 and 6, it is better that we do not consider that trial for analysis as well."
   ]
  },
  {
   "cell_type": "code",
   "execution_count": null,
   "metadata": {},
   "outputs": [],
   "source": [
    "plt.close(\"all\")\n",
    "fig, ax = plt.subplots(2, 5, figsize=(12, 6), constrained_layout=True, sharex=True, sharey=True)\n",
    "ax = ax.ravel()\n",
    "\n",
    "number_of_emg_channels = emg_rectified.shape[-1]\n",
    "# plot Rectified EMG signal but skipping channel 4\n",
    "for channel_idx in range(number_of_emg_channels): \n",
    "    if channel_idx == 3:\n",
    "        continue\n",
    "    ax[channel_idx].plot(emg_windows[0][0][:, channel_idx])\n",
    "    ax[channel_idx].set_title(f\"Channel {channel_idx+1}\")\n",
    "plt.suptitle(\"Rectified EMG signal\")\n",
    "\n",
    "fig, ax = plt.subplots(2, 5, figsize=(12, 6), constrained_layout=True, sharex=True, sharey=True)\n",
    "ax = ax.ravel()\n",
    "for channel_idx in range(number_of_emg_channels): \n",
    "    if channel_idx == 3:\n",
    "        continue\n",
    "    ax[channel_idx].plot(emg_envelopes[0][0][:, channel_idx])\n",
    "    ax[channel_idx].set_title(f\"Channel {channel_idx+1}\")\n",
    "plt.suptitle(\"Envelopes of the EMG signal\")"
   ]
  },
  {
   "cell_type": "markdown",
   "metadata": {},
   "source": [
    "Now we see the signals on the same y-scale, channel 2, 3 and 7 seem to capture some activity for this particular movement"
   ]
  },
  {
   "cell_type": "markdown",
   "metadata": {},
   "source": [
    "\n",
    "### Visualizing across repetitions\n",
    "\n",
    "Remember that we were only looking at a single trial in the previous section. \n",
    "\n",
    "To check for the robustness of the signal, we will generally need to repeat the stimulus multiple times and look at the trend of the signal quality over time."
   ]
  },
  {
   "cell_type": "code",
   "execution_count": null,
   "metadata": {},
   "outputs": [],
   "source": [
    "emg_average_activations = np.zeros((n_channels, n_stimuli, n_repetitions))\n",
    "for stimuli_idx in range(n_stimuli):\n",
    "    for repetition_idx in range(n_repetitions):\n",
    "        #mean across time for each channel\n",
    "        emg_average_activations[:, stimuli_idx, repetition_idx] = np.mean(emg_envelopes[stimuli_idx][repetition_idx], axis=0) "
   ]
  },
  {
   "cell_type": "code",
   "execution_count": null,
   "metadata": {},
   "outputs": [],
   "source": [
    "fig, ax = plt.subplots(4, 3, figsize=(10, 6), constrained_layout=True, sharex=True, sharey=True)\n",
    "ax = ax.ravel()\n",
    "\n",
    "for stimuli_idx in range(n_stimuli):\n",
    "    sns.heatmap(np.squeeze(emg_average_activations[:, stimuli_idx, :]), ax=ax[stimuli_idx] ,xticklabels=False, yticklabels=False, cbar = True)\n",
    "    ax[stimuli_idx].title.set_text(\"Stimulus \" + str(stimuli_idx + 1))\n",
    "    ax[stimuli_idx].set_xlabel(\"Repetition\")\n",
    "    ax[stimuli_idx].set_ylabel(\"EMG channel\")"
   ]
  },
  {
   "cell_type": "markdown",
   "metadata": {},
   "source": [
    "Does the structure seem homogeneous by row? Why?"
   ]
  },
  {
   "cell_type": "markdown",
   "metadata": {},
   "source": [
    "TODO: answer"
   ]
  },
  {
   "cell_type": "markdown",
   "metadata": {},
   "source": [
    "Does the structure seem homogeneous by column? Why?"
   ]
  },
  {
   "cell_type": "markdown",
   "metadata": {},
   "source": [
    "TODO: answer"
   ]
  },
  {
   "cell_type": "markdown",
   "metadata": {},
   "source": [
    "What can we say comparing the EMG recordings for different stimuli?"
   ]
  },
  {
   "cell_type": "markdown",
   "metadata": {},
   "source": [
    "TODO: answer"
   ]
  }
 ],
 "metadata": {
  "kernelspec": {
   "display_name": "Python 3 (ipykernel)",
   "language": "python",
   "name": "python3"
  },
  "language_info": {
   "codemirror_mode": {
    "name": "ipython",
    "version": 3
   },
   "file_extension": ".py",
   "mimetype": "text/x-python",
   "name": "python",
   "nbconvert_exporter": "python",
   "pygments_lexer": "ipython3",
   "version": "3.13.0"
  }
 },
 "nbformat": 4,
 "nbformat_minor": 4
}
